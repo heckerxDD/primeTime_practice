{
 "cells": [
  {
   "cell_type": "code",
   "execution_count": 57,
   "id": "dfa45b30-5b6d-4b38-9084-004b5c2f4342",
   "metadata": {},
   "outputs": [],
   "source": [
    "import numpy as np\n",
    "import pandas as pd \n",
    "import matplotlib.pyplot as plt \n",
    "import seaborn "
   ]
  },
  {
   "cell_type": "code",
   "execution_count": 62,
   "id": "9dee84e8-72f6-481a-bd53-ba408e0b2e79",
   "metadata": {},
   "outputs": [],
   "source": [
    "paths = pd.read_csv('./pt_report_for_plotting')"
   ]
  },
  {
   "cell_type": "code",
   "execution_count": 63,
   "id": "87309602-95cc-4ed8-917f-c2589a9330ef",
   "metadata": {
    "scrolled": true
   },
   "outputs": [
    {
     "data": {
      "text/html": [
       "<div>\n",
       "<style scoped>\n",
       "    .dataframe tbody tr th:only-of-type {\n",
       "        vertical-align: middle;\n",
       "    }\n",
       "\n",
       "    .dataframe tbody tr th {\n",
       "        vertical-align: top;\n",
       "    }\n",
       "\n",
       "    .dataframe thead th {\n",
       "        text-align: right;\n",
       "    }\n",
       "</style>\n",
       "<table border=\"1\" class=\"dataframe\">\n",
       "  <thead>\n",
       "    <tr style=\"text-align: right;\">\n",
       "      <th></th>\n",
       "      <th>Unnamed: 0</th>\n",
       "      <th>path number</th>\n",
       "      <th>logic level</th>\n",
       "      <th>data path delay</th>\n",
       "      <th>start point</th>\n",
       "    </tr>\n",
       "  </thead>\n",
       "  <tbody>\n",
       "    <tr>\n",
       "      <th>0</th>\n",
       "      <td>0</td>\n",
       "      <td>0</td>\n",
       "      <td>28</td>\n",
       "      <td>0.985</td>\n",
       "      <td>PMYBFCAO/sxemrhri/D</td>\n",
       "    </tr>\n",
       "    <tr>\n",
       "      <th>1</th>\n",
       "      <td>1</td>\n",
       "      <td>1</td>\n",
       "      <td>20</td>\n",
       "      <td>0.724</td>\n",
       "      <td>HVCRXBIB/ddfpzdsz/D</td>\n",
       "    </tr>\n",
       "    <tr>\n",
       "      <th>2</th>\n",
       "      <td>2</td>\n",
       "      <td>2</td>\n",
       "      <td>28</td>\n",
       "      <td>1.035</td>\n",
       "      <td>ZTDYXSGB/cwdoxyxl/E</td>\n",
       "    </tr>\n",
       "    <tr>\n",
       "      <th>3</th>\n",
       "      <td>3</td>\n",
       "      <td>3</td>\n",
       "      <td>30</td>\n",
       "      <td>0.993</td>\n",
       "      <td>ORIHGSTR/xkmzhizf/D</td>\n",
       "    </tr>\n",
       "    <tr>\n",
       "      <th>4</th>\n",
       "      <td>4</td>\n",
       "      <td>4</td>\n",
       "      <td>21</td>\n",
       "      <td>0.740</td>\n",
       "      <td>FLMOGNPW/umwydmph/E</td>\n",
       "    </tr>\n",
       "    <tr>\n",
       "      <th>...</th>\n",
       "      <td>...</td>\n",
       "      <td>...</td>\n",
       "      <td>...</td>\n",
       "      <td>...</td>\n",
       "      <td>...</td>\n",
       "    </tr>\n",
       "    <tr>\n",
       "      <th>95</th>\n",
       "      <td>95</td>\n",
       "      <td>95</td>\n",
       "      <td>20</td>\n",
       "      <td>0.683</td>\n",
       "      <td>LCLZUUQJ/mxevwzzg/Q</td>\n",
       "    </tr>\n",
       "    <tr>\n",
       "      <th>96</th>\n",
       "      <td>96</td>\n",
       "      <td>96</td>\n",
       "      <td>19</td>\n",
       "      <td>0.631</td>\n",
       "      <td>GYWZBSXM/xmxliqnw/Q</td>\n",
       "    </tr>\n",
       "    <tr>\n",
       "      <th>97</th>\n",
       "      <td>97</td>\n",
       "      <td>97</td>\n",
       "      <td>29</td>\n",
       "      <td>1.064</td>\n",
       "      <td>HFCVUINX/yidwpzly/E</td>\n",
       "    </tr>\n",
       "    <tr>\n",
       "      <th>98</th>\n",
       "      <td>98</td>\n",
       "      <td>98</td>\n",
       "      <td>34</td>\n",
       "      <td>1.196</td>\n",
       "      <td>VRKANCAQ/duqyfcqb/D</td>\n",
       "    </tr>\n",
       "    <tr>\n",
       "      <th>99</th>\n",
       "      <td>99</td>\n",
       "      <td>99</td>\n",
       "      <td>18</td>\n",
       "      <td>0.588</td>\n",
       "      <td>OCUFYBFG/ykraltoi/D</td>\n",
       "    </tr>\n",
       "  </tbody>\n",
       "</table>\n",
       "<p>100 rows × 5 columns</p>\n",
       "</div>"
      ],
      "text/plain": [
       "    Unnamed: 0  path number  logic level  data path delay          start point\n",
       "0            0            0           28            0.985  PMYBFCAO/sxemrhri/D\n",
       "1            1            1           20            0.724  HVCRXBIB/ddfpzdsz/D\n",
       "2            2            2           28            1.035  ZTDYXSGB/cwdoxyxl/E\n",
       "3            3            3           30            0.993  ORIHGSTR/xkmzhizf/D\n",
       "4            4            4           21            0.740  FLMOGNPW/umwydmph/E\n",
       "..         ...          ...          ...              ...                  ...\n",
       "95          95           95           20            0.683  LCLZUUQJ/mxevwzzg/Q\n",
       "96          96           96           19            0.631  GYWZBSXM/xmxliqnw/Q\n",
       "97          97           97           29            1.064  HFCVUINX/yidwpzly/E\n",
       "98          98           98           34            1.196  VRKANCAQ/duqyfcqb/D\n",
       "99          99           99           18            0.588  OCUFYBFG/ykraltoi/D\n",
       "\n",
       "[100 rows x 5 columns]"
      ]
     },
     "execution_count": 63,
     "metadata": {},
     "output_type": "execute_result"
    }
   ],
   "source": [
    "#paths = paths.sort_values(['logic level'], ascending=True)\n",
    "\n",
    "paths"
   ]
  },
  {
   "cell_type": "code",
   "execution_count": 65,
   "id": "29402113-99ce-4166-97a8-516d3bee0846",
   "metadata": {},
   "outputs": [],
   "source": [
    "paths = paths.drop('Unnamed: 0', axis=1)"
   ]
  },
  {
   "cell_type": "code",
   "execution_count": 66,
   "id": "59efe76c-2867-4469-a003-4707f7223ecc",
   "metadata": {},
   "outputs": [
    {
     "data": {
      "text/plain": [
       "Index(['path number', 'logic level', 'data path delay', 'start point'], dtype='object')"
      ]
     },
     "execution_count": 66,
     "metadata": {},
     "output_type": "execute_result"
    }
   ],
   "source": [
    "paths.columns"
   ]
  },
  {
   "cell_type": "code",
   "execution_count": 67,
   "id": "54155021-b1f8-400f-989e-50addd90502b",
   "metadata": {},
   "outputs": [
    {
     "data": {
      "text/html": [
       "<div>\n",
       "<style scoped>\n",
       "    .dataframe tbody tr th:only-of-type {\n",
       "        vertical-align: middle;\n",
       "    }\n",
       "\n",
       "    .dataframe tbody tr th {\n",
       "        vertical-align: top;\n",
       "    }\n",
       "\n",
       "    .dataframe thead th {\n",
       "        text-align: right;\n",
       "    }\n",
       "</style>\n",
       "<table border=\"1\" class=\"dataframe\">\n",
       "  <thead>\n",
       "    <tr style=\"text-align: right;\">\n",
       "      <th></th>\n",
       "      <th>path number</th>\n",
       "      <th>logic level</th>\n",
       "      <th>data path delay</th>\n",
       "    </tr>\n",
       "  </thead>\n",
       "  <tbody>\n",
       "    <tr>\n",
       "      <th>count</th>\n",
       "      <td>100.000000</td>\n",
       "      <td>100.000000</td>\n",
       "      <td>100.000000</td>\n",
       "    </tr>\n",
       "    <tr>\n",
       "      <th>mean</th>\n",
       "      <td>49.500000</td>\n",
       "      <td>24.410000</td>\n",
       "      <td>0.835690</td>\n",
       "    </tr>\n",
       "    <tr>\n",
       "      <th>std</th>\n",
       "      <td>29.011492</td>\n",
       "      <td>5.532448</td>\n",
       "      <td>0.192576</td>\n",
       "    </tr>\n",
       "    <tr>\n",
       "      <th>min</th>\n",
       "      <td>0.000000</td>\n",
       "      <td>15.000000</td>\n",
       "      <td>0.501000</td>\n",
       "    </tr>\n",
       "    <tr>\n",
       "      <th>25%</th>\n",
       "      <td>24.750000</td>\n",
       "      <td>20.000000</td>\n",
       "      <td>0.686000</td>\n",
       "    </tr>\n",
       "    <tr>\n",
       "      <th>50%</th>\n",
       "      <td>49.500000</td>\n",
       "      <td>23.500000</td>\n",
       "      <td>0.807500</td>\n",
       "    </tr>\n",
       "    <tr>\n",
       "      <th>75%</th>\n",
       "      <td>74.250000</td>\n",
       "      <td>29.250000</td>\n",
       "      <td>0.995750</td>\n",
       "    </tr>\n",
       "    <tr>\n",
       "      <th>max</th>\n",
       "      <td>99.000000</td>\n",
       "      <td>34.000000</td>\n",
       "      <td>1.196000</td>\n",
       "    </tr>\n",
       "  </tbody>\n",
       "</table>\n",
       "</div>"
      ],
      "text/plain": [
       "       path number  logic level  data path delay\n",
       "count   100.000000   100.000000       100.000000\n",
       "mean     49.500000    24.410000         0.835690\n",
       "std      29.011492     5.532448         0.192576\n",
       "min       0.000000    15.000000         0.501000\n",
       "25%      24.750000    20.000000         0.686000\n",
       "50%      49.500000    23.500000         0.807500\n",
       "75%      74.250000    29.250000         0.995750\n",
       "max      99.000000    34.000000         1.196000"
      ]
     },
     "execution_count": 67,
     "metadata": {},
     "output_type": "execute_result"
    }
   ],
   "source": [
    "paths.describe()"
   ]
  },
  {
   "cell_type": "markdown",
   "id": "42e4dd4e-66ee-418f-b9d9-78af3e788e09",
   "metadata": {},
   "source": [
    "Find paths whose data path delay is bigger than average, and see what the worst path is"
   ]
  },
  {
   "cell_type": "code",
   "execution_count": 71,
   "id": "451d0b14-8238-434b-9157-91a0eff30424",
   "metadata": {},
   "outputs": [
    {
     "data": {
      "text/plain": [
       "path number                         98\n",
       "logic level                         34\n",
       "data path delay                  1.196\n",
       "start point        VRKANCAQ/duqyfcqb/D\n",
       "Name: 98, dtype: object"
      ]
     },
     "execution_count": 71,
     "metadata": {},
     "output_type": "execute_result"
    }
   ],
   "source": [
    "#paths.loc[paths['cur_data_delay'] > paths['cur_data_delay'].mean()].sort_values(['cur_data_delay'], ascending=False).iloc[0]\n",
    "\n",
    "paths.loc[paths['data path delay'] > paths['data path delay'].mean()].sort_values(['data path delay'], ascending=False).iloc[0]"
   ]
  },
  {
   "cell_type": "code",
   "execution_count": 27,
   "id": "efdb5c00-b021-4407-ad35-a450192d320b",
   "metadata": {},
   "outputs": [],
   "source": [
    "#paths['cur_logic_lvl'].mean()"
   ]
  },
  {
   "cell_type": "code",
   "execution_count": 28,
   "id": "ab05e101-e019-401b-83f6-d3b0fb5bcf6e",
   "metadata": {},
   "outputs": [
    {
     "data": {
      "text/html": [
       "<div>\n",
       "<style scoped>\n",
       "    .dataframe tbody tr th:only-of-type {\n",
       "        vertical-align: middle;\n",
       "    }\n",
       "\n",
       "    .dataframe tbody tr th {\n",
       "        vertical-align: top;\n",
       "    }\n",
       "\n",
       "    .dataframe thead th {\n",
       "        text-align: right;\n",
       "    }\n",
       "</style>\n",
       "<table border=\"1\" class=\"dataframe\">\n",
       "  <thead>\n",
       "    <tr style=\"text-align: right;\">\n",
       "      <th></th>\n",
       "      <th>path number</th>\n",
       "      <th>logic level</th>\n",
       "      <th>data path delay</th>\n",
       "      <th>start point</th>\n",
       "    </tr>\n",
       "  </thead>\n",
       "  <tbody>\n",
       "    <tr>\n",
       "      <th>29</th>\n",
       "      <td>29</td>\n",
       "      <td>15</td>\n",
       "      <td>0.518</td>\n",
       "      <td>EUTVDSRQ/pipqmdwi/Q</td>\n",
       "    </tr>\n",
       "    <tr>\n",
       "      <th>61</th>\n",
       "      <td>61</td>\n",
       "      <td>15</td>\n",
       "      <td>0.598</td>\n",
       "      <td>RFGQOGYW/vfjnvxgi/E</td>\n",
       "    </tr>\n",
       "    <tr>\n",
       "      <th>35</th>\n",
       "      <td>35</td>\n",
       "      <td>15</td>\n",
       "      <td>0.565</td>\n",
       "      <td>GKSCIPWE/mofdlxvh/D</td>\n",
       "    </tr>\n",
       "    <tr>\n",
       "      <th>89</th>\n",
       "      <td>89</td>\n",
       "      <td>15</td>\n",
       "      <td>0.501</td>\n",
       "      <td>JXTPOACA/wsytmlhk/E</td>\n",
       "    </tr>\n",
       "    <tr>\n",
       "      <th>48</th>\n",
       "      <td>48</td>\n",
       "      <td>16</td>\n",
       "      <td>0.611</td>\n",
       "      <td>BMADZSFI/giwunnoq/D</td>\n",
       "    </tr>\n",
       "  </tbody>\n",
       "</table>\n",
       "</div>"
      ],
      "text/plain": [
       "    path number  logic level  data path delay          start point\n",
       "29           29           15            0.518  EUTVDSRQ/pipqmdwi/Q\n",
       "61           61           15            0.598  RFGQOGYW/vfjnvxgi/E\n",
       "35           35           15            0.565  GKSCIPWE/mofdlxvh/D\n",
       "89           89           15            0.501  JXTPOACA/wsytmlhk/E\n",
       "48           48           16            0.611  BMADZSFI/giwunnoq/D"
      ]
     },
     "execution_count": 28,
     "metadata": {},
     "output_type": "execute_result"
    }
   ],
   "source": [
    "#paths['total data delay'] = paths['pre_data_delay'] + paths['cur_data_delay'] + paths['post_data_delay']\n",
    "paths.head(5)"
   ]
  },
  {
   "cell_type": "code",
   "execution_count": 30,
   "id": "d39eadb6-575d-4c3f-8600-1b959fa11193",
   "metadata": {},
   "outputs": [
    {
     "data": {
      "text/plain": [
       "[<matplotlib.lines.Line2D at 0x2876d1d00>]"
      ]
     },
     "execution_count": 30,
     "metadata": {},
     "output_type": "execute_result"
    },
    {
     "data": {
      "image/png": "[encoded data removed]",
      "text/plain": [
       "<Figure size 640x480 with 1 Axes>"
      ]
     },
     "metadata": {},
     "output_type": "display_data"
    }
   ],
   "source": [
    "plt.plot(paths['logic level'], paths['data path delay'])"
   ]
  },
  {
   "cell_type": "code",
   "execution_count": 32,
   "id": "94d2a818-6490-4672-8db6-b58799391aed",
   "metadata": {},
   "outputs": [],
   "source": [
    "sizes = [3,4,2]"
   ]
  },
  {
   "cell_type": "code",
   "execution_count": 35,
   "id": "8630cbf9-98cc-475e-af20-0797ceaf3c27",
   "metadata": {},
   "outputs": [
    {
     "data": {
      "text/plain": [
       "[array([[-0.68372271],\n",
       "        [ 0.30733199],\n",
       "        [-0.35836384],\n",
       "        [-1.11426035]]),\n",
       " array([[-0.57288062],\n",
       "        [-0.26260415]])]"
      ]
     },
     "execution_count": 35,
     "metadata": {},
     "output_type": "execute_result"
    }
   ],
   "source": [
    "bias = [np.random.randn(y, 1) for y in sizes[1:]]\n",
    "bias"
   ]
  },
  {
   "cell_type": "code",
   "execution_count": 47,
   "id": "f51ccaab-e2ed-4b80-ab9e-2f04c3525503",
   "metadata": {},
   "outputs": [
    {
     "data": {
      "text/plain": [
       "[array([[ 0.47096034, -1.50662032,  1.81032896],\n",
       "        [ 0.01452737,  0.01441437,  0.08248271],\n",
       "        [-1.12274976,  0.03113776,  0.42491313],\n",
       "        [ 0.0689576 , -1.36014948,  0.78640487]]),\n",
       " array([[ 0.17740065,  1.19030902, -1.7447092 , -1.64214265],\n",
       "        [ 1.66230964, -1.50420814,  0.04993054, -0.83549952]])]"
      ]
     },
     "execution_count": 47,
     "metadata": {},
     "output_type": "execute_result"
    }
   ],
   "source": [
    "weights = [np.random.randn(y, x) for x, y in zip(sizes[:-1], sizes[1:])]\n",
    "weights"
   ]
  },
  {
   "cell_type": "code",
   "execution_count": 40,
   "id": "2947ec02-0a8d-40fb-8ed3-ca6a18d77619",
   "metadata": {},
   "outputs": [
    {
     "data": {
      "text/plain": [
       "[3, 4]"
      ]
     },
     "execution_count": 40,
     "metadata": {},
     "output_type": "execute_result"
    }
   ],
   "source": [
    "sizes[:-1]"
   ]
  },
  {
   "cell_type": "code",
   "execution_count": 45,
   "id": "84a26dc6-b9b9-475d-9a6e-e5b9634b105b",
   "metadata": {},
   "outputs": [
    {
     "data": {
      "text/plain": [
       "[4, 2]"
      ]
     },
     "execution_count": 45,
     "metadata": {},
     "output_type": "execute_result"
    }
   ],
   "source": [
    "sizes[1:]"
   ]
  },
  {
   "cell_type": "code",
   "execution_count": 46,
   "id": "5e8472e0-bbd0-4ba0-8868-081ffe30a887",
   "metadata": {},
   "outputs": [
    {
     "name": "stdout",
     "output_type": "stream",
     "text": [
      "x is 3\n",
      "y is 4\n",
      "x is 4\n",
      "y is 2\n"
     ]
    }
   ],
   "source": [
    "for x, y in zip(sizes[:-1], sizes[1:]):\n",
    "    print(f\"x is {x}\\ny is {y}\")"
   ]
  },
  {
   "cell_type": "code",
   "execution_count": 56,
   "id": "06f9f44e-5064-4970-929a-882fd07c9fb5",
   "metadata": {},
   "outputs": [
    {
     "data": {
      "text/plain": [
       "array([6, 6, 6])"
      ]
     },
     "execution_count": 56,
     "metadata": {},
     "output_type": "execute_result"
    }
   ],
   "source": [
    "a1 = np.array([2, 1])\n",
    "T = np.array([[2, 2], [2, 2], [2, 2]])\n",
    "T @ a1 "
   ]
  }
 ],
 "metadata": {
  "kernelspec": {
   "display_name": "Python 3 (ipykernel)",
   "language": "python",
   "name": "python3"
  },
  "language_info": {
   "codemirror_mode": {
    "name": "ipython",
    "version": 3
   },
   "file_extension": ".py",
   "mimetype": "text/x-python",
   "name": "python",
   "nbconvert_exporter": "python",
   "pygments_lexer": "ipython3",
   "version": "3.12.2"
  }
 },
 "nbformat": 4,
 "nbformat_minor": 5
}
